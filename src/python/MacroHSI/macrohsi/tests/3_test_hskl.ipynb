{
 "cells": [
  {
   "cell_type": "markdown",
   "id": "ca6950cd",
   "metadata": {},
   "source": [
    "# Basic processes using hskl toolbox "
   ]
  },
  {
   "cell_type": "code",
   "execution_count": 1,
   "id": "89bbec3a",
   "metadata": {},
   "outputs": [],
   "source": [
    "import hskl.classification as classification\n",
    "import hskl.utils as utils"
   ]
  },
  {
   "cell_type": "code",
   "execution_count": 2,
   "id": "4d55481e",
   "metadata": {},
   "outputs": [],
   "source": [
    "import sys\n",
    "import os\n",
    "\n",
    "module_path = os.path.abspath(os.path.join('..'))\n",
    "if module_path not in sys.path:\n",
    "    sys.path.append(module_path+\"\\\\tools\")\n",
    "import hsi_io as io\n",
    "import hsi_decompositions as dc"
   ]
  },
  {
   "cell_type": "code",
   "execution_count": 10,
   "id": "1e1e37f4",
   "metadata": {},
   "outputs": [],
   "source": [
    "fpath = \"D:\\elena\\mspi\\matfiles\\hsi\\calibTriplets\"\n",
    "allImage = io.load_hsi(fpath, [94]) "
   ]
  },
  {
   "cell_type": "code",
   "execution_count": 5,
   "id": "f799c311",
   "metadata": {},
   "outputs": [],
   "source": [
    "import numpy as np\n",
    "allImage = np.array(allImage)"
   ]
  },
  {
   "cell_type": "code",
   "execution_count": 11,
   "id": "53957ec1",
   "metadata": {},
   "outputs": [
    {
     "name": "stdout",
     "output_type": "stream",
     "text": [
      "(1409024, 401)\n"
     ]
    }
   ],
   "source": [
    "imgArr = io.flatten_hsis(allImage)\n",
    "print(imgArr.shape)"
   ]
  },
  {
   "cell_type": "code",
   "execution_count": 13,
   "id": "7a59a27a",
   "metadata": {},
   "outputs": [],
   "source": [
    "pca = utils.pca_fit(imgArr.transpose())"
   ]
  },
  {
   "cell_type": "code",
   "execution_count": 23,
   "id": "cb1bcb5e",
   "metadata": {},
   "outputs": [
    {
     "name": "stdout",
     "output_type": "stream",
     "text": [
      "1409024\n"
     ]
    }
   ],
   "source": [
    "#print(pca.eigenvalues)\n",
    "#print(pca.eigenvectors)\n",
    "print(pca.stats.nsamples)\n",
    "#pca.transform(x)\n",
    "#pca.reduce(x)\n",
    "#pca.denoise(x)\n",
    "#pca.get_denoising_transform(x)"
   ]
  },
  {
   "cell_type": "code",
   "execution_count": null,
   "id": "b9a4be72",
   "metadata": {},
   "outputs": [],
   "source": []
  }
 ],
 "metadata": {
  "kernelspec": {
   "display_name": "Python 3",
   "language": "python",
   "name": "python3"
  },
  "language_info": {
   "codemirror_mode": {
    "name": "ipython",
    "version": 3
   },
   "file_extension": ".py",
   "mimetype": "text/x-python",
   "name": "python",
   "nbconvert_exporter": "python",
   "pygments_lexer": "ipython3",
   "version": "3.7.10"
  }
 },
 "nbformat": 4,
 "nbformat_minor": 5
}
